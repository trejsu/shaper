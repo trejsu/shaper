{
 "cells": [
  {
   "cell_type": "code",
   "execution_count": 299,
   "metadata": {},
   "outputs": [],
   "source": [
    "from shapes.shape import Triangle, Ellipse, Rectangle, Quadrangle, QuadrangleBrush, Curve\n",
    "from shapes.canvas import Canvas\n",
    "%matplotlib inline\n",
    "import matplotlib.pyplot as plt\n",
    "import numpy as np\n",
    "import os"
   ]
  },
  {
   "cell_type": "code",
   "execution_count": 300,
   "metadata": {},
   "outputs": [],
   "source": [
    "SIZE = 1000\n",
    "N = 10\n",
    "SHAPE = Triangle\n",
    "BASE = '/Users/mchrusci/uj/shaper_data/shape-samples'\n",
    "SHAPES = [Triangle, Ellipse, Rectangle, Quadrangle, QuadrangleBrush]"
   ]
  },
  {
   "cell_type": "code",
   "execution_count": 342,
   "metadata": {},
   "outputs": [
    {
     "data": {
      "text/plain": [
       "<matplotlib.image.AxesImage at 0x65cde55c0>"
      ]
     },
     "execution_count": 342,
     "metadata": {},
     "output_type": "execute_result"
    },
    {
     "data": {
      "image/png": "[encoded data removed]",
      "text/plain": [
       "<Figure size 432x288 with 1 Axes>"
      ]
     },
     "metadata": {
      "needs_background": "light"
     },
     "output_type": "display_data"
    }
   ],
   "source": [
    "canvas = Canvas.without_target(size=SIZE, background='ffffff', channels=3)\n",
    "for i in range(N):\n",
    "    canvas.add(np.random.choice(SHAPES).random(SIZE, SIZE, 0.6, np.random.RandomState(), scale=0.1))\n",
    "plt.imshow(canvas.img.astype(np.int64))"
   ]
  },
  {
   "cell_type": "code",
   "execution_count": 343,
   "metadata": {},
   "outputs": [],
   "source": [
    "canvas.save(os.path.join(BASE, 'scale-01'))"
   ]
  },
  {
   "cell_type": "code",
   "execution_count": null,
   "metadata": {},
   "outputs": [],
   "source": []
  }
 ],
 "metadata": {
  "kernelspec": {
   "display_name": "Python 3",
   "language": "python",
   "name": "python3"
  },
  "language_info": {
   "codemirror_mode": {
    "name": "ipython",
    "version": 3
   },
   "file_extension": ".py",
   "mimetype": "text/x-python",
   "name": "python",
   "nbconvert_exporter": "python",
   "pygments_lexer": "ipython3",
   "version": "3.6.7"
  }
 },
 "nbformat": 4,
 "nbformat_minor": 2
}
